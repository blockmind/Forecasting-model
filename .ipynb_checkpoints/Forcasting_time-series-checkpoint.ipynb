{
 "cells": [
  {
   "cell_type": "markdown",
   "metadata": {},
   "source": [
    "# Forecasting a Time Series \n"
   ]
  },
  {
   "cell_type": "markdown",
   "metadata": {},
   "source": [
    "### Data loading & Processing "
   ]
  },
  {
   "cell_type": "code",
   "execution_count": 10,
   "metadata": {},
   "outputs": [
    {
     "data": {
      "text/html": [
       "<div>\n",
       "<style scoped>\n",
       "    .dataframe tbody tr th:only-of-type {\n",
       "        vertical-align: middle;\n",
       "    }\n",
       "\n",
       "    .dataframe tbody tr th {\n",
       "        vertical-align: top;\n",
       "    }\n",
       "\n",
       "    .dataframe thead th {\n",
       "        text-align: right;\n",
       "    }\n",
       "</style>\n",
       "<table border=\"1\" class=\"dataframe\">\n",
       "  <thead>\n",
       "    <tr style=\"text-align: right;\">\n",
       "      <th></th>\n",
       "      <th>Sales of new one-family houses</th>\n",
       "    </tr>\n",
       "    <tr>\n",
       "      <th>Month</th>\n",
       "      <th></th>\n",
       "    </tr>\n",
       "  </thead>\n",
       "  <tbody>\n",
       "    <tr>\n",
       "      <th>1987-01</th>\n",
       "      <td>53</td>\n",
       "    </tr>\n",
       "    <tr>\n",
       "      <th>1987-02</th>\n",
       "      <td>59</td>\n",
       "    </tr>\n",
       "    <tr>\n",
       "      <th>1987-03</th>\n",
       "      <td>73</td>\n",
       "    </tr>\n",
       "    <tr>\n",
       "      <th>1987-04</th>\n",
       "      <td>72</td>\n",
       "    </tr>\n",
       "    <tr>\n",
       "      <th>1987-05</th>\n",
       "      <td>62</td>\n",
       "    </tr>\n",
       "  </tbody>\n",
       "</table>\n",
       "</div>"
      ],
      "text/plain": [
       "         Sales of new one-family houses\n",
       "Month                                  \n",
       "1987-01                              53\n",
       "1987-02                              59\n",
       "1987-03                              73\n",
       "1987-04                              72\n",
       "1987-05                              62"
      ]
     },
     "execution_count": 10,
     "metadata": {},
     "output_type": "execute_result"
    }
   ],
   "source": [
    "%matplotlib inline\n",
    "import pandas as pd\n",
    "\n",
    "\n",
    "pd.set_option('display.max_rows', 500)\n",
    "pd.set_option('display.max_columns', 500)\n",
    "\n",
    "\n",
    "#data = pd.read_csv(\"./Data/sample.csv\",index_col=0)\n",
    "data = pd.read_csv(\"./Data/sales_of_new_onefamily_houses.csv\",index_col=0) \n",
    "\n",
    "data.head()"
   ]
  },
  {
   "cell_type": "code",
   "execution_count": 11,
   "metadata": {},
   "outputs": [
    {
     "data": {
      "text/plain": [
       "Index(['1987-01', '1987-02', '1987-03', '1987-04', '1987-05', '1987-06',\n",
       "       '1987-07', '1987-08', '1987-09', '1987-10',\n",
       "       ...\n",
       "       '1995-02', '1995-03', '1995-04', '1995-05', '1995-06', '1995-07',\n",
       "       '1995-08', '1995-09', '1995-10', '1995-11'],\n",
       "      dtype='object', name='Month', length=107)"
      ]
     },
     "execution_count": 11,
     "metadata": {},
     "output_type": "execute_result"
    }
   ],
   "source": [
    "data.index"
   ]
  },
  {
   "cell_type": "code",
   "execution_count": 12,
   "metadata": {},
   "outputs": [],
   "source": [
    "data.index = pd.to_datetime(data.index)"
   ]
  },
  {
   "cell_type": "code",
   "execution_count": 13,
   "metadata": {},
   "outputs": [
    {
     "data": {
      "text/html": [
       "<div>\n",
       "<style scoped>\n",
       "    .dataframe tbody tr th:only-of-type {\n",
       "        vertical-align: middle;\n",
       "    }\n",
       "\n",
       "    .dataframe tbody tr th {\n",
       "        vertical-align: top;\n",
       "    }\n",
       "\n",
       "    .dataframe thead th {\n",
       "        text-align: right;\n",
       "    }\n",
       "</style>\n",
       "<table border=\"1\" class=\"dataframe\">\n",
       "  <thead>\n",
       "    <tr style=\"text-align: right;\">\n",
       "      <th></th>\n",
       "      <th>Sales of new one-family houses</th>\n",
       "    </tr>\n",
       "    <tr>\n",
       "      <th>Month</th>\n",
       "      <th></th>\n",
       "    </tr>\n",
       "  </thead>\n",
       "  <tbody>\n",
       "    <tr>\n",
       "      <th>1987-01-01</th>\n",
       "      <td>53</td>\n",
       "    </tr>\n",
       "    <tr>\n",
       "      <th>1987-02-01</th>\n",
       "      <td>59</td>\n",
       "    </tr>\n",
       "    <tr>\n",
       "      <th>1987-03-01</th>\n",
       "      <td>73</td>\n",
       "    </tr>\n",
       "    <tr>\n",
       "      <th>1987-04-01</th>\n",
       "      <td>72</td>\n",
       "    </tr>\n",
       "    <tr>\n",
       "      <th>1987-05-01</th>\n",
       "      <td>62</td>\n",
       "    </tr>\n",
       "  </tbody>\n",
       "</table>\n",
       "</div>"
      ],
      "text/plain": [
       "            Sales of new one-family houses\n",
       "Month                                     \n",
       "1987-01-01                              53\n",
       "1987-02-01                              59\n",
       "1987-03-01                              73\n",
       "1987-04-01                              72\n",
       "1987-05-01                              62"
      ]
     },
     "execution_count": 13,
     "metadata": {},
     "output_type": "execute_result"
    }
   ],
   "source": [
    "data.head()"
   ]
  },
  {
   "cell_type": "code",
   "execution_count": 14,
   "metadata": {},
   "outputs": [
    {
     "data": {
      "text/plain": [
       "DatetimeIndex(['1987-01-01', '1987-02-01', '1987-03-01', '1987-04-01',\n",
       "               '1987-05-01', '1987-06-01', '1987-07-01', '1987-08-01',\n",
       "               '1987-09-01', '1987-10-01',\n",
       "               ...\n",
       "               '1995-02-01', '1995-03-01', '1995-04-01', '1995-05-01',\n",
       "               '1995-06-01', '1995-07-01', '1995-08-01', '1995-09-01',\n",
       "               '1995-10-01', '1995-11-01'],\n",
       "              dtype='datetime64[ns]', name='Month', length=107, freq=None)"
      ]
     },
     "execution_count": 14,
     "metadata": {},
     "output_type": "execute_result"
    }
   ],
   "source": [
    "data.index"
   ]
  },
  {
   "cell_type": "code",
   "execution_count": 18,
   "metadata": {},
   "outputs": [],
   "source": [
    "data.columns = ['Value']"
   ]
  },
  {
   "cell_type": "code",
   "execution_count": 19,
   "metadata": {},
   "outputs": [
    {
     "data": {
      "text/html": [
       "<div>\n",
       "<style scoped>\n",
       "    .dataframe tbody tr th:only-of-type {\n",
       "        vertical-align: middle;\n",
       "    }\n",
       "\n",
       "    .dataframe tbody tr th {\n",
       "        vertical-align: top;\n",
       "    }\n",
       "\n",
       "    .dataframe thead th {\n",
       "        text-align: right;\n",
       "    }\n",
       "</style>\n",
       "<table border=\"1\" class=\"dataframe\">\n",
       "  <thead>\n",
       "    <tr style=\"text-align: right;\">\n",
       "      <th></th>\n",
       "      <th>Value</th>\n",
       "    </tr>\n",
       "    <tr>\n",
       "      <th>Month</th>\n",
       "      <th></th>\n",
       "    </tr>\n",
       "  </thead>\n",
       "  <tbody>\n",
       "    <tr>\n",
       "      <th>1995-07-01</th>\n",
       "      <td>64</td>\n",
       "    </tr>\n",
       "    <tr>\n",
       "      <th>1995-08-01</th>\n",
       "      <td>63</td>\n",
       "    </tr>\n",
       "    <tr>\n",
       "      <th>1995-09-01</th>\n",
       "      <td>55</td>\n",
       "    </tr>\n",
       "    <tr>\n",
       "      <th>1995-10-01</th>\n",
       "      <td>54</td>\n",
       "    </tr>\n",
       "    <tr>\n",
       "      <th>1995-11-01</th>\n",
       "      <td>44</td>\n",
       "    </tr>\n",
       "  </tbody>\n",
       "</table>\n",
       "</div>"
      ],
      "text/plain": [
       "            Value\n",
       "Month            \n",
       "1995-07-01     64\n",
       "1995-08-01     63\n",
       "1995-09-01     55\n",
       "1995-10-01     54\n",
       "1995-11-01     44"
      ]
     },
     "execution_count": 19,
     "metadata": {},
     "output_type": "execute_result"
    }
   ],
   "source": [
    "data.tail()"
   ]
  },
  {
   "cell_type": "markdown",
   "metadata": {},
   "source": [
    "### ARIMA Time Series Model Setting "
   ]
  },
  {
   "cell_type": "code",
   "execution_count": 20,
   "metadata": {},
   "outputs": [],
   "source": [
    "import itertools\n",
    "\n",
    "# S_period: periodicity of the time series (4 for quarterly periods, 12 for yearly periods for monthly data, etc.)\n",
    "S_period = 12\n",
    "\n",
    "# Define the p, d and q parameters to take any value between 0 and 2\n",
    "#p = d = q = range(0, 5)\n",
    "\n",
    "p = range(0, 2)\n",
    "d = range(0, 2)\n",
    "q = range(0, 2)\n",
    "\n",
    "# Generate all different combinations of p, q and q triplets\n",
    "pdq = list(itertools.product(p, d, q))\n",
    "\n",
    "# Generate all different combinations of seasonal p, q and q triplets\n",
    "seasonal_pdq = [(x[0], x[1], x[2], S_period) for x in list(itertools.product(p, d, q))]"
   ]
  },
  {
   "cell_type": "code",
   "execution_count": 21,
   "metadata": {},
   "outputs": [
    {
     "data": {
      "text/plain": [
       "[(0, 0, 0),\n",
       " (0, 0, 1),\n",
       " (0, 1, 0),\n",
       " (0, 1, 1),\n",
       " (1, 0, 0),\n",
       " (1, 0, 1),\n",
       " (1, 1, 0),\n",
       " (1, 1, 1)]"
      ]
     },
     "execution_count": 21,
     "metadata": {},
     "output_type": "execute_result"
    }
   ],
   "source": [
    "pdq"
   ]
  },
  {
   "cell_type": "markdown",
   "metadata": {},
   "source": [
    "###  Parameter Selection for the ARIMA Time Series Model"
   ]
  },
  {
   "cell_type": "code",
   "execution_count": 22,
   "metadata": {},
   "outputs": [
    {
     "name": "stdout",
     "output_type": "stream",
     "text": [
      "Time mearuse started.\n",
      "ARIMA(0, 0, 0)x(0, 0, 0, 12)12 - AIC:1144.731304797869\n",
      "ARIMA(0, 0, 0)x(0, 0, 1, 12)12 - AIC:926.6058888780148\n",
      "ARIMA(0, 0, 0)x(0, 1, 0, 12)12 - AIC:653.244716081879\n",
      "ARIMA(0, 0, 0)x(0, 1, 1, 12)12 - AIC:577.1056648867585\n",
      "ARIMA(0, 0, 0)x(1, 0, 0, 12)12 - AIC:661.9490699815565\n",
      "ARIMA(0, 0, 0)x(1, 0, 1, 12)12 - AIC:654.6320423625566\n",
      "ARIMA(0, 0, 0)x(1, 1, 0, 12)12 - AIC:585.1805648600226\n",
      "ARIMA(0, 0, 0)x(1, 1, 1, 12)12 - AIC:571.6576374768745\n",
      "ARIMA(0, 0, 1)x(0, 0, 0, 12)12 - AIC:1004.5226223130998\n",
      "ARIMA(0, 0, 1)x(0, 0, 1, 12)12 - AIC:806.8403248317236\n",
      "ARIMA(0, 0, 1)x(0, 1, 0, 12)12 - AIC:599.1839360537364\n",
      "ARIMA(0, 0, 1)x(0, 1, 1, 12)12 - AIC:514.7272246854313\n",
      "ARIMA(0, 0, 1)x(1, 0, 0, 12)12 - AIC:613.224235753116\n",
      "ARIMA(0, 0, 1)x(1, 0, 1, 12)12 - AIC:591.353169317827\n",
      "ARIMA(0, 0, 1)x(1, 1, 0, 12)12 - AIC:537.1919122080085\n",
      "ARIMA(0, 0, 1)x(1, 1, 1, 12)12 - AIC:516.429114886887\n",
      "ARIMA(0, 1, 0)x(0, 0, 0, 12)12 - AIC:680.6261818124138\n",
      "ARIMA(0, 1, 0)x(0, 0, 1, 12)12 - AIC:584.7485394707703\n",
      "ARIMA(0, 1, 0)x(0, 1, 0, 12)12 - AIC:592.6007119577021\n",
      "ARIMA(0, 1, 0)x(0, 1, 1, 12)12 - AIC:478.64889400998624\n",
      "ARIMA(0, 1, 0)x(1, 0, 0, 12)12 - AIC:575.758935464622\n",
      "ARIMA(0, 1, 0)x(1, 0, 1, 12)12 - AIC:547.8065079951142\n",
      "ARIMA(0, 1, 0)x(1, 1, 0, 12)12 - AIC:507.1128967922257\n",
      "ARIMA(0, 1, 0)x(1, 1, 1, 12)12 - AIC:480.64808649988385\n",
      "ARIMA(0, 1, 1)x(0, 0, 0, 12)12 - AIC:671.3190498521694\n",
      "ARIMA(0, 1, 1)x(0, 0, 1, 12)12 - AIC:574.5334988561877\n",
      "ARIMA(0, 1, 1)x(0, 1, 0, 12)12 - AIC:582.5290927635543\n",
      "ARIMA(0, 1, 1)x(0, 1, 1, 12)12 - AIC:469.443841434123\n",
      "ARIMA(0, 1, 1)x(1, 0, 0, 12)12 - AIC:574.4482234071911\n",
      "ARIMA(0, 1, 1)x(1, 0, 1, 12)12 - AIC:541.4467864931548\n",
      "ARIMA(0, 1, 1)x(1, 1, 0, 12)12 - AIC:505.371422197027\n",
      "ARIMA(0, 1, 1)x(1, 1, 1, 12)12 - AIC:471.9457632979712\n",
      "ARIMA(1, 0, 0)x(0, 0, 0, 12)12 - AIC:688.5233255968075\n",
      "ARIMA(1, 0, 0)x(0, 0, 1, 12)12 - AIC:595.8763513530731\n",
      "ARIMA(1, 0, 0)x(0, 1, 0, 12)12 - AIC:586.1026719588633\n",
      "ARIMA(1, 0, 0)x(0, 1, 1, 12)12 - AIC:482.1142883766328\n",
      "ARIMA(1, 0, 0)x(1, 0, 0, 12)12 - AIC:576.8837380825805\n",
      "ARIMA(1, 0, 0)x(1, 0, 1, 12)12 - AIC:552.2174645662969\n",
      "ARIMA(1, 0, 0)x(1, 1, 0, 12)12 - AIC:501.31343079395486\n",
      "ARIMA(1, 0, 0)x(1, 1, 1, 12)12 - AIC:484.1131535847372\n",
      "ARIMA(1, 0, 1)x(0, 0, 0, 12)12 - AIC:683.3831583109788\n",
      "ARIMA(1, 0, 1)x(0, 0, 1, 12)12 - AIC:586.2983114489898\n",
      "ARIMA(1, 0, 1)x(0, 1, 0, 12)12 - AIC:581.7577078144227\n",
      "ARIMA(1, 0, 1)x(0, 1, 1, 12)12 - AIC:474.8836569959271\n",
      "ARIMA(1, 0, 1)x(1, 0, 0, 12)12 - AIC:575.8651248620324\n",
      "ARIMA(1, 0, 1)x(1, 0, 1, 12)12 - AIC:547.9681006240654\n",
      "ARIMA(1, 0, 1)x(1, 1, 0, 12)12 - AIC:502.67489980843374\n",
      "ARIMA(1, 0, 1)x(1, 1, 1, 12)12 - AIC:476.73780390156173\n",
      "ARIMA(1, 1, 0)x(0, 0, 0, 12)12 - AIC:681.7712346397673\n",
      "ARIMA(1, 1, 0)x(0, 0, 1, 12)12 - AIC:586.6650918440507\n",
      "ARIMA(1, 1, 0)x(0, 1, 0, 12)12 - AIC:590.999209956693\n",
      "ARIMA(1, 1, 0)x(0, 1, 1, 12)12 - AIC:479.102305412583\n",
      "ARIMA(1, 1, 0)x(1, 0, 0, 12)12 - AIC:567.5759370673671\n",
      "ARIMA(1, 1, 0)x(1, 0, 1, 12)12 - AIC:548.448562955339\n",
      "ARIMA(1, 1, 0)x(1, 1, 0, 12)12 - AIC:498.2432235057892\n",
      "ARIMA(1, 1, 0)x(1, 1, 1, 12)12 - AIC:480.8704944006445\n",
      "ARIMA(1, 1, 1)x(0, 0, 0, 12)12 - AIC:673.3190368701806\n",
      "ARIMA(1, 1, 1)x(0, 0, 1, 12)12 - AIC:576.4627747309877\n",
      "ARIMA(1, 1, 1)x(0, 1, 0, 12)12 - AIC:580.9442009671786\n",
      "ARIMA(1, 1, 1)x(0, 1, 1, 12)12 - AIC:467.81563504429596\n",
      "ARIMA(1, 1, 1)x(1, 0, 0, 12)12 - AIC:562.974568165021\n",
      "ARIMA(1, 1, 1)x(1, 0, 1, 12)12 - AIC:539.2043006141403\n",
      "ARIMA(1, 1, 1)x(1, 1, 0, 12)12 - AIC:494.94307500200836\n",
      "ARIMA(1, 1, 1)x(1, 1, 1, 12)12 - AIC:469.3829153844303\n",
      "Spent time: 12.073566913604736\n",
      "Minimum AIC value: 467.81563504429596\n"
     ]
    }
   ],
   "source": [
    "import warnings\n",
    "import statsmodels.api as sm\n",
    "import numpy as np\n",
    "import time\n",
    "\n",
    "\n",
    "warnings.filterwarnings(\"ignore\") # specify to ignore warning messages\n",
    "\n",
    "\n",
    "cnt_loop = 0\n",
    "\n",
    "\n",
    "aic_table = pd.DataFrame(np.zeros((len(pdq), len(seasonal_pdq))), index = pdq, columns = seasonal_pdq)\n",
    "\n",
    "print(\"Time mearuse started.\")\n",
    "startTime = time.time()\n",
    "                         \n",
    "for param in pdq:\n",
    "    for param_seasonal in seasonal_pdq:\n",
    "\n",
    "        mod = sm.tsa.statespace.SARIMAX(data,\n",
    "                                        order=param,\n",
    "                                        seasonal_order=param_seasonal,\n",
    "                                        enforce_stationarity=False,\n",
    "                                        enforce_invertibility=False)\n",
    "\n",
    "        results = mod.fit()\n",
    "\n",
    "\n",
    "        print('ARIMA{}x{}12 - AIC:{}'.format(param, param_seasonal, results.aic))\n",
    "\n",
    "        aic_table[param, param_seasonal] = results.aic\n",
    "\n",
    "        if cnt_loop == 0:\n",
    "            min_aic = results.aic\n",
    "            min_aic_param = param\n",
    "            min_aic_param_seasonal = param_seasonal\n",
    "\n",
    "        if results.aic < min_aic:\n",
    "            min_aic = results.aic\n",
    "            min_aic_param = param\n",
    "            min_aic_param_seasonal = param_seasonal          \n",
    "        cnt_loop = cnt_loop + 1             \n",
    "\n",
    "            \n",
    "\n",
    "\n",
    "endTime = time.time() - startTime\n",
    "print(\"Spent time:\", endTime) \n",
    "\n",
    "print(\"Minimum AIC value:\", min_aic) "
   ]
  },
  {
   "cell_type": "code",
   "execution_count": 23,
   "metadata": {},
   "outputs": [
    {
     "name": "stdout",
     "output_type": "stream",
     "text": [
      "{'min_aic': 467.81563504429596, 'min_aic_param': (1, 1, 1), 'min_aic_param_seasonal': (0, 1, 1, 12)}\n"
     ]
    }
   ],
   "source": [
    "min_combination = {\"min_aic\":min_aic, \"min_aic_param\":min_aic_param, \"min_aic_param_seasonal\":min_aic_param_seasonal}\n",
    "\n",
    "\n",
    "print(min_combination)\n"
   ]
  },
  {
   "cell_type": "markdown",
   "metadata": {},
   "source": [
    "### Fitting an ARIMA Time Series Model"
   ]
  },
  {
   "cell_type": "code",
   "execution_count": 24,
   "metadata": {},
   "outputs": [
    {
     "name": "stdout",
     "output_type": "stream",
     "text": [
      "==============================================================================\n",
      "                 coef    std err          z      P>|z|      [0.025      0.975]\n",
      "------------------------------------------------------------------------------\n",
      "ar.L1          0.4580      0.290      1.580      0.114      -0.110       1.026\n",
      "ma.L1         -0.7460      0.204     -3.663      0.000      -1.145      -0.347\n",
      "ma.S.L12      -1.0000   2528.372     -0.000      1.000   -4956.519    4954.519\n",
      "sigma2        14.7653   3.73e+04      0.000      1.000   -7.32e+04    7.32e+04\n",
      "==============================================================================\n"
     ]
    }
   ],
   "source": [
    "\n",
    "\n",
    "mod = sm.tsa.statespace.SARIMAX(data,\n",
    "                                order=min_aic_param,\n",
    "                                seasonal_order=min_aic_param_seasonal,\n",
    "                                enforce_stationarity=False,\n",
    "                                enforce_invertibility=False)\n",
    "\n",
    "results = mod.fit()\n",
    "\n",
    "\n",
    "print(results.summary().tables[1])"
   ]
  },
  {
   "cell_type": "markdown",
   "metadata": {},
   "source": [
    "### Diagnosis of model"
   ]
  },
  {
   "cell_type": "code",
   "execution_count": 25,
   "metadata": {},
   "outputs": [
    {
     "data": {
      "image/png": "[encoded data removed]",
      "text/plain": [
       "<Figure size 1080x864 with 4 Axes>"
      ]
     },
     "metadata": {},
     "output_type": "display_data"
    }
   ],
   "source": [
    "import matplotlib.pyplot as plt\n",
    "\n",
    "results.plot_diagnostics(figsize=(15, 12))\n",
    "plt.show()"
   ]
  },
  {
   "cell_type": "markdown",
   "metadata": {},
   "source": [
    "### Prediction time, Plot time setting"
   ]
  },
  {
   "cell_type": "code",
   "execution_count": null,
   "metadata": {},
   "outputs": [],
   "source": [
    "\n",
    "PREDICTION_START_DATETIME = pd.to_datetime('1995-01-01')\n",
    "\n",
    "PLOT_START_DATE = '1985-01-01'\n"
   ]
  },
  {
   "cell_type": "markdown",
   "metadata": {},
   "source": [
    "### Validating Forecasts (Static)"
   ]
  },
  {
   "cell_type": "code",
   "execution_count": 26,
   "metadata": {},
   "outputs": [
    {
     "ename": "TypeError",
     "evalue": "Empty 'DataFrame': no numeric data to plot",
     "output_type": "error",
     "traceback": [
      "\u001b[1;31m---------------------------------------------------------------------------\u001b[0m",
      "\u001b[1;31mTypeError\u001b[0m                                 Traceback (most recent call last)",
      "\u001b[1;32m<ipython-input-26-ea7a8ffd767e>\u001b[0m in \u001b[0;36m<module>\u001b[1;34m()\u001b[0m\n\u001b[0;32m     14\u001b[0m \u001b[1;33m\u001b[0m\u001b[0m\n\u001b[0;32m     15\u001b[0m \u001b[1;31m# plotting forcast result\u001b[0m\u001b[1;33m\u001b[0m\u001b[1;33m\u001b[0m\u001b[0m\n\u001b[1;32m---> 16\u001b[1;33m \u001b[0max\u001b[0m \u001b[1;33m=\u001b[0m \u001b[0mdata\u001b[0m\u001b[1;33m[\u001b[0m\u001b[1;34m'2010-01-01'\u001b[0m\u001b[1;33m:\u001b[0m\u001b[1;33m]\u001b[0m\u001b[1;33m.\u001b[0m\u001b[0mplot\u001b[0m\u001b[1;33m(\u001b[0m\u001b[0mlabel\u001b[0m\u001b[1;33m=\u001b[0m\u001b[1;34m'observed'\u001b[0m\u001b[1;33m)\u001b[0m\u001b[1;33m\u001b[0m\u001b[0m\n\u001b[0m\u001b[0;32m     17\u001b[0m \u001b[0mpred\u001b[0m\u001b[1;33m.\u001b[0m\u001b[0mpredicted_mean\u001b[0m\u001b[1;33m.\u001b[0m\u001b[0mplot\u001b[0m\u001b[1;33m(\u001b[0m\u001b[0max\u001b[0m\u001b[1;33m=\u001b[0m\u001b[0max\u001b[0m\u001b[1;33m,\u001b[0m \u001b[0mlabel\u001b[0m\u001b[1;33m=\u001b[0m\u001b[1;34m'One-step ahead Forecast'\u001b[0m\u001b[1;33m,\u001b[0m \u001b[0malpha\u001b[0m\u001b[1;33m=\u001b[0m\u001b[1;36m.7\u001b[0m\u001b[1;33m)\u001b[0m\u001b[1;33m\u001b[0m\u001b[0m\n\u001b[0;32m     18\u001b[0m \u001b[1;33m\u001b[0m\u001b[0m\n",
      "\u001b[1;32mC:\\ProgramData\\Anaconda3\\lib\\site-packages\\pandas\\plotting\\_core.py\u001b[0m in \u001b[0;36m__call__\u001b[1;34m(self, x, y, kind, ax, subplots, sharex, sharey, layout, figsize, use_index, title, grid, legend, style, logx, logy, loglog, xticks, yticks, xlim, ylim, rot, fontsize, colormap, table, yerr, xerr, secondary_y, sort_columns, **kwds)\u001b[0m\n\u001b[0;32m   2939\u001b[0m                           \u001b[0mfontsize\u001b[0m\u001b[1;33m=\u001b[0m\u001b[0mfontsize\u001b[0m\u001b[1;33m,\u001b[0m \u001b[0mcolormap\u001b[0m\u001b[1;33m=\u001b[0m\u001b[0mcolormap\u001b[0m\u001b[1;33m,\u001b[0m \u001b[0mtable\u001b[0m\u001b[1;33m=\u001b[0m\u001b[0mtable\u001b[0m\u001b[1;33m,\u001b[0m\u001b[1;33m\u001b[0m\u001b[0m\n\u001b[0;32m   2940\u001b[0m                           \u001b[0myerr\u001b[0m\u001b[1;33m=\u001b[0m\u001b[0myerr\u001b[0m\u001b[1;33m,\u001b[0m \u001b[0mxerr\u001b[0m\u001b[1;33m=\u001b[0m\u001b[0mxerr\u001b[0m\u001b[1;33m,\u001b[0m \u001b[0msecondary_y\u001b[0m\u001b[1;33m=\u001b[0m\u001b[0msecondary_y\u001b[0m\u001b[1;33m,\u001b[0m\u001b[1;33m\u001b[0m\u001b[0m\n\u001b[1;32m-> 2941\u001b[1;33m                           sort_columns=sort_columns, **kwds)\n\u001b[0m\u001b[0;32m   2942\u001b[0m     \u001b[0m__call__\u001b[0m\u001b[1;33m.\u001b[0m\u001b[0m__doc__\u001b[0m \u001b[1;33m=\u001b[0m \u001b[0mplot_frame\u001b[0m\u001b[1;33m.\u001b[0m\u001b[0m__doc__\u001b[0m\u001b[1;33m\u001b[0m\u001b[0m\n\u001b[0;32m   2943\u001b[0m \u001b[1;33m\u001b[0m\u001b[0m\n",
      "\u001b[1;32mC:\\ProgramData\\Anaconda3\\lib\\site-packages\\pandas\\plotting\\_core.py\u001b[0m in \u001b[0;36mplot_frame\u001b[1;34m(data, x, y, kind, ax, subplots, sharex, sharey, layout, figsize, use_index, title, grid, legend, style, logx, logy, loglog, xticks, yticks, xlim, ylim, rot, fontsize, colormap, table, yerr, xerr, secondary_y, sort_columns, **kwds)\u001b[0m\n\u001b[0;32m   1975\u001b[0m                  \u001b[0myerr\u001b[0m\u001b[1;33m=\u001b[0m\u001b[0myerr\u001b[0m\u001b[1;33m,\u001b[0m \u001b[0mxerr\u001b[0m\u001b[1;33m=\u001b[0m\u001b[0mxerr\u001b[0m\u001b[1;33m,\u001b[0m\u001b[1;33m\u001b[0m\u001b[0m\n\u001b[0;32m   1976\u001b[0m                  \u001b[0msecondary_y\u001b[0m\u001b[1;33m=\u001b[0m\u001b[0msecondary_y\u001b[0m\u001b[1;33m,\u001b[0m \u001b[0msort_columns\u001b[0m\u001b[1;33m=\u001b[0m\u001b[0msort_columns\u001b[0m\u001b[1;33m,\u001b[0m\u001b[1;33m\u001b[0m\u001b[0m\n\u001b[1;32m-> 1977\u001b[1;33m                  **kwds)\n\u001b[0m\u001b[0;32m   1978\u001b[0m \u001b[1;33m\u001b[0m\u001b[0m\n\u001b[0;32m   1979\u001b[0m \u001b[1;33m\u001b[0m\u001b[0m\n",
      "\u001b[1;32mC:\\ProgramData\\Anaconda3\\lib\\site-packages\\pandas\\plotting\\_core.py\u001b[0m in \u001b[0;36m_plot\u001b[1;34m(data, x, y, subplots, ax, kind, **kwds)\u001b[0m\n\u001b[0;32m   1802\u001b[0m         \u001b[0mplot_obj\u001b[0m \u001b[1;33m=\u001b[0m \u001b[0mklass\u001b[0m\u001b[1;33m(\u001b[0m\u001b[0mdata\u001b[0m\u001b[1;33m,\u001b[0m \u001b[0msubplots\u001b[0m\u001b[1;33m=\u001b[0m\u001b[0msubplots\u001b[0m\u001b[1;33m,\u001b[0m \u001b[0max\u001b[0m\u001b[1;33m=\u001b[0m\u001b[0max\u001b[0m\u001b[1;33m,\u001b[0m \u001b[0mkind\u001b[0m\u001b[1;33m=\u001b[0m\u001b[0mkind\u001b[0m\u001b[1;33m,\u001b[0m \u001b[1;33m**\u001b[0m\u001b[0mkwds\u001b[0m\u001b[1;33m)\u001b[0m\u001b[1;33m\u001b[0m\u001b[0m\n\u001b[0;32m   1803\u001b[0m \u001b[1;33m\u001b[0m\u001b[0m\n\u001b[1;32m-> 1804\u001b[1;33m     \u001b[0mplot_obj\u001b[0m\u001b[1;33m.\u001b[0m\u001b[0mgenerate\u001b[0m\u001b[1;33m(\u001b[0m\u001b[1;33m)\u001b[0m\u001b[1;33m\u001b[0m\u001b[0m\n\u001b[0m\u001b[0;32m   1805\u001b[0m     \u001b[0mplot_obj\u001b[0m\u001b[1;33m.\u001b[0m\u001b[0mdraw\u001b[0m\u001b[1;33m(\u001b[0m\u001b[1;33m)\u001b[0m\u001b[1;33m\u001b[0m\u001b[0m\n\u001b[0;32m   1806\u001b[0m     \u001b[1;32mreturn\u001b[0m \u001b[0mplot_obj\u001b[0m\u001b[1;33m.\u001b[0m\u001b[0mresult\u001b[0m\u001b[1;33m\u001b[0m\u001b[0m\n",
      "\u001b[1;32mC:\\ProgramData\\Anaconda3\\lib\\site-packages\\pandas\\plotting\\_core.py\u001b[0m in \u001b[0;36mgenerate\u001b[1;34m(self)\u001b[0m\n\u001b[0;32m    256\u001b[0m     \u001b[1;32mdef\u001b[0m \u001b[0mgenerate\u001b[0m\u001b[1;33m(\u001b[0m\u001b[0mself\u001b[0m\u001b[1;33m)\u001b[0m\u001b[1;33m:\u001b[0m\u001b[1;33m\u001b[0m\u001b[0m\n\u001b[0;32m    257\u001b[0m         \u001b[0mself\u001b[0m\u001b[1;33m.\u001b[0m\u001b[0m_args_adjust\u001b[0m\u001b[1;33m(\u001b[0m\u001b[1;33m)\u001b[0m\u001b[1;33m\u001b[0m\u001b[0m\n\u001b[1;32m--> 258\u001b[1;33m         \u001b[0mself\u001b[0m\u001b[1;33m.\u001b[0m\u001b[0m_compute_plot_data\u001b[0m\u001b[1;33m(\u001b[0m\u001b[1;33m)\u001b[0m\u001b[1;33m\u001b[0m\u001b[0m\n\u001b[0m\u001b[0;32m    259\u001b[0m         \u001b[0mself\u001b[0m\u001b[1;33m.\u001b[0m\u001b[0m_setup_subplots\u001b[0m\u001b[1;33m(\u001b[0m\u001b[1;33m)\u001b[0m\u001b[1;33m\u001b[0m\u001b[0m\n\u001b[0;32m    260\u001b[0m         \u001b[0mself\u001b[0m\u001b[1;33m.\u001b[0m\u001b[0m_make_plot\u001b[0m\u001b[1;33m(\u001b[0m\u001b[1;33m)\u001b[0m\u001b[1;33m\u001b[0m\u001b[0m\n",
      "\u001b[1;32mC:\\ProgramData\\Anaconda3\\lib\\site-packages\\pandas\\plotting\\_core.py\u001b[0m in \u001b[0;36m_compute_plot_data\u001b[1;34m(self)\u001b[0m\n\u001b[0;32m    371\u001b[0m         \u001b[1;32mif\u001b[0m \u001b[0mis_empty\u001b[0m\u001b[1;33m:\u001b[0m\u001b[1;33m\u001b[0m\u001b[0m\n\u001b[0;32m    372\u001b[0m             raise TypeError('Empty {0!r}: no numeric data to '\n\u001b[1;32m--> 373\u001b[1;33m                             'plot'.format(numeric_data.__class__.__name__))\n\u001b[0m\u001b[0;32m    374\u001b[0m \u001b[1;33m\u001b[0m\u001b[0m\n\u001b[0;32m    375\u001b[0m         \u001b[0mself\u001b[0m\u001b[1;33m.\u001b[0m\u001b[0mdata\u001b[0m \u001b[1;33m=\u001b[0m \u001b[0mnumeric_data\u001b[0m\u001b[1;33m\u001b[0m\u001b[0m\n",
      "\u001b[1;31mTypeError\u001b[0m: Empty 'DataFrame': no numeric data to plot"
     ]
    }
   ],
   "source": [
    "\n",
    "pred = results.get_prediction(start=PREDICTION_START_DATETIME, dynamic=False)\n",
    "\"\"\"\n",
    "The dynamic=False argument ensures that we produce one-step ahead forecasts, meaning that forecasts at each point are generated using the full history up to that point.\n",
    "\"\"\"\n",
    "\n",
    "# confidence intervals for forcasts of the time series \n",
    "pred_ci = pred.conf_int()\n",
    "\n",
    "\n",
    "\n",
    "# plotting forcast result\n",
    "\n",
    "\n",
    "ax = data[PLOT_START_DATE:].plot(label='observed')\n",
    "pred.predicted_mean.plot(ax=ax, label='One-step ahead Forecast', alpha=.7)\n",
    "\n",
    "ax.fill_between(pred_ci.index,\n",
    "                pred_ci.iloc[:, 0],\n",
    "                pred_ci.iloc[:, 1], color='k', alpha=.2)\n",
    "\n",
    "ax.fill_betweenx(ax.get_ylim(), PREDICTION_START_DATETIME, data.index[-1],\n",
    "                 alpha=.1, zorder=-1)\n",
    "\n",
    "\n",
    "ax.set_xlabel('Date')\n",
    "ax.set_ylabel('Value')\n",
    "plt.legend()\n",
    "\n",
    "plt.show()\n",
    "\n",
    "\n"
   ]
  },
  {
   "cell_type": "markdown",
   "metadata": {},
   "source": [
    "### Generating table including all information (Static)"
   ]
  },
  {
   "cell_type": "code",
   "execution_count": null,
   "metadata": {},
   "outputs": [],
   "source": [
    "df_true_value = data.copy()\n",
    "df_true_value.columns = ['Value']\n",
    "\n",
    "df_predicted_mean = pd.DataFrame(pred.predicted_mean)\n",
    "df_predicted_mean.index = pd.to_datetime(df_predicted_mean.index)\n",
    "df_predicted_mean.index.name = 'DATE'\n",
    "df_predicted_mean.columns = ['Predicted value']\n",
    "df_pred_ci = pred_ci.copy()\n",
    "df_pred_ci.index = pd.to_datetime(df_pred_ci.index)\n",
    "df_pred_ci.index.name = 'DATE'\n",
    "\n",
    "#df['Abnomal'] = df[]\n",
    "\n",
    "#result = left.join(right, how='outer')\n",
    "df = df_true_value.join(df_predicted_mean, how = 'outer')\n",
    "df = df.join(df_pred_ci, how = 'outer')"
   ]
  },
  {
   "cell_type": "markdown",
   "metadata": {},
   "source": [
    "### Calculating MSE, MAPE (Static)"
   ]
  },
  {
   "cell_type": "code",
   "execution_count": null,
   "metadata": {},
   "outputs": [],
   "source": [
    "\n",
    "y_forecasted = df.loc[PREDICTION_START_DATETIME:, 'Predicted value'].values\n",
    "y_truth = df.loc[PREDICTION_START_DATETIME:, 'Value'].values\n",
    "\n",
    "# Compute the mean square error\n",
    "mse = ((y_forecasted - y_truth) ** 2).mean()\n",
    "print('The Mean Squared Error of our forecasts is {}'.format(round(mse, 2)))\n",
    "\n",
    "# Compute the mean square error\n",
    "\n",
    "def mean_absolute_percentage_error(y_true, y_pred): \n",
    "    y_true, y_pred = np.array(y_true), np.array(y_pred)\n",
    "    return np.mean(np.abs((y_true - y_pred) / y_true)) * 100\n",
    "\n",
    "mape = mean_absolute_percentage_error(y_truth, y_forecasted)\n",
    "print('The Mean Absolute Percentage Error of our forecasts is {}'.format(round(mape, 2)))"
   ]
  },
  {
   "cell_type": "markdown",
   "metadata": {},
   "source": [
    "### Validating Forecasts (Dynamic)"
   ]
  },
  {
   "cell_type": "code",
   "execution_count": null,
   "metadata": {},
   "outputs": [],
   "source": [
    "\"\"\"Dynamic forecast: only use information from the time series up to a certain point, and after that,\n",
    "                     forecasts are generated using values from previous forecasted time points.\n",
    "\"\"\"\n",
    "\n",
    "\n",
    "pred_dynamic = results.get_prediction(start=PREDICTION_START_DATETIME, dynamic=True, full_results=True)\n",
    "pred_dynamic_ci = pred_dynamic.conf_int()\n",
    "\n",
    "\n",
    "ax = data[PLOT_START_DATE:].plot(label='observed')\n",
    "pred_dynamic.predicted_mean.plot(ax=ax, label='Dynamic Forecast', alpha=.7)\n",
    "\n",
    "ax.fill_between(pred_dynamic_ci.index,\n",
    "                pred_dynamic_ci.iloc[:, 0],\n",
    "                pred_dynamic_ci.iloc[:, 1], color='k', alpha=.25)\n",
    "\n",
    "ax.fill_betweenx(ax.get_ylim(), PREDICTION_START_DATETIME, data.index[-1],\n",
    "                 alpha=.1, zorder=-1)\n",
    "\n",
    "ax.set_xlabel('Date')\n",
    "ax.set_ylabel('Value')\n",
    "\n",
    "plt.legend()\n",
    "\n",
    "plt.show()\n"
   ]
  },
  {
   "cell_type": "markdown",
   "metadata": {},
   "source": [
    "### Generating table including all information (Dynamic)"
   ]
  },
  {
   "cell_type": "code",
   "execution_count": null,
   "metadata": {},
   "outputs": [],
   "source": [
    "df_true_value = data.copy()\n",
    "df_true_value.columns = ['Value']\n",
    "\n",
    "df_dynamic_predicted_mean = pd.DataFrame(pred_dynamic.predicted_mean)\n",
    "df_dynamic_predicted_mean.index = pd.to_datetime(df_dynamic_predicted_mean.index)\n",
    "df_dynamic_predicted_mean.index.name = 'DATE'\n",
    "df_dynamic_predicted_mean.columns = ['Predicted value']\n",
    "df_dynamic_pred_ci = pred_dynamic_ci.copy()\n",
    "df_dynamic_pred_ci.index = pd.to_datetime(df_dynamic_pred_ci.index)\n",
    "df_dynamic_pred_ci.index.name = 'DATE'\n",
    "\n",
    "#df['Abnomal'] = df[]\n",
    "\n",
    "#result = left.join(right, how='outer')\n",
    "df_dynamic = df_true_value.join(df_dynamic_predicted_mean, how = 'outer')\n",
    "df_dynamic = df_dynamic.join(df_dynamic_pred_ci, how = 'outer')"
   ]
  },
  {
   "cell_type": "markdown",
   "metadata": {},
   "source": [
    "### Calculating MSE, MAPE (Dynamic)"
   ]
  },
  {
   "cell_type": "code",
   "execution_count": null,
   "metadata": {},
   "outputs": [],
   "source": [
    "y_forecasted = df_dynamic.loc[PREDICTION_START_DATETIME:, 'Predicted value'].values\n",
    "y_truth = df_dynamic.loc[PREDICTION_START_DATETIME:, 'Value'].values\n",
    "\n",
    "# Compute the mean square error\n",
    "mse = ((y_forecasted - y_truth) ** 2).mean()\n",
    "print('The Mean Squared Error of our forecasts is {}'.format(round(mse, 2)))\n",
    "\n",
    "# Compute the mean square error\n",
    "\n",
    "def mean_absolute_percentage_error(y_true, y_pred): \n",
    "    y_true, y_pred = np.array(y_true), np.array(y_pred)\n",
    "    return np.mean(np.abs((y_true - y_pred) / y_true)) * 100\n",
    "\n",
    "mape = mean_absolute_percentage_error(y_truth, y_forecasted)\n",
    "print('The Mean Absolute Percentage Error of our forecasts is {}'.format(round(mape, 2)))"
   ]
  },
  {
   "cell_type": "markdown",
   "metadata": {},
   "source": [
    "### Future Forecast"
   ]
  },
  {
   "cell_type": "code",
   "execution_count": null,
   "metadata": {},
   "outputs": [],
   "source": [
    "# Get forecast 500 steps ahead in future\n",
    "pred_uc = results.get_forecast(steps=200)\n",
    "\n",
    "# Get confidence intervals of forecasts\n",
    "pred_ci = pred_uc.conf_int()\n",
    "\n",
    "\n",
    "ax = data.plot(label='observed', figsize=(20, 15))\n",
    "pred_uc.predicted_mean.plot(ax=ax, label='Forecast')\n",
    "ax.fill_between(pred_ci.index,\n",
    "                pred_ci.iloc[:, 0],\n",
    "                pred_ci.iloc[:, 1], color='k', alpha=.25)\n",
    "ax.set_xlabel('Date')\n",
    "ax.set_ylabel('Value')\n",
    "\n",
    "plt.legend()\n",
    "plt.show()"
   ]
  },
  {
   "cell_type": "code",
   "execution_count": null,
   "metadata": {},
   "outputs": [],
   "source": [
    "#from pyramid.arima import auto_arima"
   ]
  },
  {
   "cell_type": "code",
   "execution_count": null,
   "metadata": {},
   "outputs": [],
   "source": []
  }
 ],
 "metadata": {
  "anaconda-cloud": {},
  "kernelspec": {
   "display_name": "Python 3",
   "language": "python",
   "name": "python3"
  },
  "language_info": {
   "codemirror_mode": {
    "name": "ipython",
    "version": 3
   },
   "file_extension": ".py",
   "mimetype": "text/x-python",
   "name": "python",
   "nbconvert_exporter": "python",
   "pygments_lexer": "ipython3",
   "version": "3.6.5"
  }
 },
 "nbformat": 4,
 "nbformat_minor": 1
}
